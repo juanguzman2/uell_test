{
 "cells": [
  {
   "cell_type": "code",
   "execution_count": 1,
   "id": "42b28023",
   "metadata": {},
   "outputs": [],
   "source": [
    "import pandas as pd\n",
    "import matplotlib.pyplot as plt\n",
    "import seaborn as sns\n",
    "import numpy as np\n",
    "import plotly.express as px\n"
   ]
  },
  {
   "cell_type": "code",
   "execution_count": 2,
   "id": "f20781c5",
   "metadata": {},
   "outputs": [],
   "source": [
    "df = pd.read_csv(r'../data/processed/Incapacidades_Empresa_limpio.csv')"
   ]
  },
  {
   "cell_type": "code",
   "execution_count": 3,
   "id": "79e914fa",
   "metadata": {},
   "outputs": [],
   "source": [
    "plt.style.use('ggplot')  # Puedes añadir esta línea antes de los gráficos para una estética más limpia\n"
   ]
  },
  {
   "cell_type": "code",
   "execution_count": 4,
   "id": "2d06f2d3",
   "metadata": {},
   "outputs": [
    {
     "data": {
      "application/vnd.plotly.v1+json": {
       "config": {
        "plotlyServerURL": "https://plot.ly"
       },
       "data": [
        {
         "hovertemplate": "Colaborador=%{x}<br>Costo Total ($)=%{marker.color}<extra></extra>",
         "legendgroup": "",
         "marker": {
          "color": {
           "bdata": "q6qqKvdgZUEAAACAOXpiQVVVVZV+eWFBVVVVFbWqYEEAAACAaJBdQQAAAICw+lpBq6qqqnjFWEFVVVXVG5hVQd7d3V1ffFRBVVVV1Yj6U0E=",
           "dtype": "f8"
          },
          "coloraxis": "coloraxis",
          "pattern": {
           "shape": ""
          }
         },
         "name": "",
         "orientation": "v",
         "showlegend": false,
         "textposition": "auto",
         "type": "bar",
         "x": {
          "bdata": "JQDIAkwA/wAOAR8CUABdAnUGaAA=",
          "dtype": "i2"
         },
         "xaxis": "x",
         "y": {
          "bdata": "q6qqKvdgZUEAAACAOXpiQVVVVZV+eWFBVVVVFbWqYEEAAACAaJBdQQAAAICw+lpBq6qqqnjFWEFVVVXVG5hVQd7d3V1ffFRBVVVV1Yj6U0E=",
          "dtype": "f8"
         },
         "yaxis": "y"
        }
       ],
       "layout": {
        "barmode": "relative",
        "coloraxis": {
         "colorbar": {
          "title": {
           "text": "Costo Total ($)"
          }
         },
         "colorscale": [
          [
           0,
           "rgb(247,251,255)"
          ],
          [
           0.125,
           "rgb(222,235,247)"
          ],
          [
           0.25,
           "rgb(198,219,239)"
          ],
          [
           0.375,
           "rgb(158,202,225)"
          ],
          [
           0.5,
           "rgb(107,174,214)"
          ],
          [
           0.625,
           "rgb(66,146,198)"
          ],
          [
           0.75,
           "rgb(33,113,181)"
          ],
          [
           0.875,
           "rgb(8,81,156)"
          ],
          [
           1,
           "rgb(8,48,107)"
          ]
         ]
        },
        "legend": {
         "tracegroupgap": 0
        },
        "template": {
         "data": {
          "bar": [
           {
            "error_x": {
             "color": "#2a3f5f"
            },
            "error_y": {
             "color": "#2a3f5f"
            },
            "marker": {
             "line": {
              "color": "#E5ECF6",
              "width": 0.5
             },
             "pattern": {
              "fillmode": "overlay",
              "size": 10,
              "solidity": 0.2
             }
            },
            "type": "bar"
           }
          ],
          "barpolar": [
           {
            "marker": {
             "line": {
              "color": "#E5ECF6",
              "width": 0.5
             },
             "pattern": {
              "fillmode": "overlay",
              "size": 10,
              "solidity": 0.2
             }
            },
            "type": "barpolar"
           }
          ],
          "carpet": [
           {
            "aaxis": {
             "endlinecolor": "#2a3f5f",
             "gridcolor": "white",
             "linecolor": "white",
             "minorgridcolor": "white",
             "startlinecolor": "#2a3f5f"
            },
            "baxis": {
             "endlinecolor": "#2a3f5f",
             "gridcolor": "white",
             "linecolor": "white",
             "minorgridcolor": "white",
             "startlinecolor": "#2a3f5f"
            },
            "type": "carpet"
           }
          ],
          "choropleth": [
           {
            "colorbar": {
             "outlinewidth": 0,
             "ticks": ""
            },
            "type": "choropleth"
           }
          ],
          "contour": [
           {
            "colorbar": {
             "outlinewidth": 0,
             "ticks": ""
            },
            "colorscale": [
             [
              0,
              "#0d0887"
             ],
             [
              0.1111111111111111,
              "#46039f"
             ],
             [
              0.2222222222222222,
              "#7201a8"
             ],
             [
              0.3333333333333333,
              "#9c179e"
             ],
             [
              0.4444444444444444,
              "#bd3786"
             ],
             [
              0.5555555555555556,
              "#d8576b"
             ],
             [
              0.6666666666666666,
              "#ed7953"
             ],
             [
              0.7777777777777778,
              "#fb9f3a"
             ],
             [
              0.8888888888888888,
              "#fdca26"
             ],
             [
              1,
              "#f0f921"
             ]
            ],
            "type": "contour"
           }
          ],
          "contourcarpet": [
           {
            "colorbar": {
             "outlinewidth": 0,
             "ticks": ""
            },
            "type": "contourcarpet"
           }
          ],
          "heatmap": [
           {
            "colorbar": {
             "outlinewidth": 0,
             "ticks": ""
            },
            "colorscale": [
             [
              0,
              "#0d0887"
             ],
             [
              0.1111111111111111,
              "#46039f"
             ],
             [
              0.2222222222222222,
              "#7201a8"
             ],
             [
              0.3333333333333333,
              "#9c179e"
             ],
             [
              0.4444444444444444,
              "#bd3786"
             ],
             [
              0.5555555555555556,
              "#d8576b"
             ],
             [
              0.6666666666666666,
              "#ed7953"
             ],
             [
              0.7777777777777778,
              "#fb9f3a"
             ],
             [
              0.8888888888888888,
              "#fdca26"
             ],
             [
              1,
              "#f0f921"
             ]
            ],
            "type": "heatmap"
           }
          ],
          "histogram": [
           {
            "marker": {
             "pattern": {
              "fillmode": "overlay",
              "size": 10,
              "solidity": 0.2
             }
            },
            "type": "histogram"
           }
          ],
          "histogram2d": [
           {
            "colorbar": {
             "outlinewidth": 0,
             "ticks": ""
            },
            "colorscale": [
             [
              0,
              "#0d0887"
             ],
             [
              0.1111111111111111,
              "#46039f"
             ],
             [
              0.2222222222222222,
              "#7201a8"
             ],
             [
              0.3333333333333333,
              "#9c179e"
             ],
             [
              0.4444444444444444,
              "#bd3786"
             ],
             [
              0.5555555555555556,
              "#d8576b"
             ],
             [
              0.6666666666666666,
              "#ed7953"
             ],
             [
              0.7777777777777778,
              "#fb9f3a"
             ],
             [
              0.8888888888888888,
              "#fdca26"
             ],
             [
              1,
              "#f0f921"
             ]
            ],
            "type": "histogram2d"
           }
          ],
          "histogram2dcontour": [
           {
            "colorbar": {
             "outlinewidth": 0,
             "ticks": ""
            },
            "colorscale": [
             [
              0,
              "#0d0887"
             ],
             [
              0.1111111111111111,
              "#46039f"
             ],
             [
              0.2222222222222222,
              "#7201a8"
             ],
             [
              0.3333333333333333,
              "#9c179e"
             ],
             [
              0.4444444444444444,
              "#bd3786"
             ],
             [
              0.5555555555555556,
              "#d8576b"
             ],
             [
              0.6666666666666666,
              "#ed7953"
             ],
             [
              0.7777777777777778,
              "#fb9f3a"
             ],
             [
              0.8888888888888888,
              "#fdca26"
             ],
             [
              1,
              "#f0f921"
             ]
            ],
            "type": "histogram2dcontour"
           }
          ],
          "mesh3d": [
           {
            "colorbar": {
             "outlinewidth": 0,
             "ticks": ""
            },
            "type": "mesh3d"
           }
          ],
          "parcoords": [
           {
            "line": {
             "colorbar": {
              "outlinewidth": 0,
              "ticks": ""
             }
            },
            "type": "parcoords"
           }
          ],
          "pie": [
           {
            "automargin": true,
            "type": "pie"
           }
          ],
          "scatter": [
           {
            "fillpattern": {
             "fillmode": "overlay",
             "size": 10,
             "solidity": 0.2
            },
            "type": "scatter"
           }
          ],
          "scatter3d": [
           {
            "line": {
             "colorbar": {
              "outlinewidth": 0,
              "ticks": ""
             }
            },
            "marker": {
             "colorbar": {
              "outlinewidth": 0,
              "ticks": ""
             }
            },
            "type": "scatter3d"
           }
          ],
          "scattercarpet": [
           {
            "marker": {
             "colorbar": {
              "outlinewidth": 0,
              "ticks": ""
             }
            },
            "type": "scattercarpet"
           }
          ],
          "scattergeo": [
           {
            "marker": {
             "colorbar": {
              "outlinewidth": 0,
              "ticks": ""
             }
            },
            "type": "scattergeo"
           }
          ],
          "scattergl": [
           {
            "marker": {
             "colorbar": {
              "outlinewidth": 0,
              "ticks": ""
             }
            },
            "type": "scattergl"
           }
          ],
          "scattermap": [
           {
            "marker": {
             "colorbar": {
              "outlinewidth": 0,
              "ticks": ""
             }
            },
            "type": "scattermap"
           }
          ],
          "scattermapbox": [
           {
            "marker": {
             "colorbar": {
              "outlinewidth": 0,
              "ticks": ""
             }
            },
            "type": "scattermapbox"
           }
          ],
          "scatterpolar": [
           {
            "marker": {
             "colorbar": {
              "outlinewidth": 0,
              "ticks": ""
             }
            },
            "type": "scatterpolar"
           }
          ],
          "scatterpolargl": [
           {
            "marker": {
             "colorbar": {
              "outlinewidth": 0,
              "ticks": ""
             }
            },
            "type": "scatterpolargl"
           }
          ],
          "scatterternary": [
           {
            "marker": {
             "colorbar": {
              "outlinewidth": 0,
              "ticks": ""
             }
            },
            "type": "scatterternary"
           }
          ],
          "surface": [
           {
            "colorbar": {
             "outlinewidth": 0,
             "ticks": ""
            },
            "colorscale": [
             [
              0,
              "#0d0887"
             ],
             [
              0.1111111111111111,
              "#46039f"
             ],
             [
              0.2222222222222222,
              "#7201a8"
             ],
             [
              0.3333333333333333,
              "#9c179e"
             ],
             [
              0.4444444444444444,
              "#bd3786"
             ],
             [
              0.5555555555555556,
              "#d8576b"
             ],
             [
              0.6666666666666666,
              "#ed7953"
             ],
             [
              0.7777777777777778,
              "#fb9f3a"
             ],
             [
              0.8888888888888888,
              "#fdca26"
             ],
             [
              1,
              "#f0f921"
             ]
            ],
            "type": "surface"
           }
          ],
          "table": [
           {
            "cells": {
             "fill": {
              "color": "#EBF0F8"
             },
             "line": {
              "color": "white"
             }
            },
            "header": {
             "fill": {
              "color": "#C8D4E3"
             },
             "line": {
              "color": "white"
             }
            },
            "type": "table"
           }
          ]
         },
         "layout": {
          "annotationdefaults": {
           "arrowcolor": "#2a3f5f",
           "arrowhead": 0,
           "arrowwidth": 1
          },
          "autotypenumbers": "strict",
          "coloraxis": {
           "colorbar": {
            "outlinewidth": 0,
            "ticks": ""
           }
          },
          "colorscale": {
           "diverging": [
            [
             0,
             "#8e0152"
            ],
            [
             0.1,
             "#c51b7d"
            ],
            [
             0.2,
             "#de77ae"
            ],
            [
             0.3,
             "#f1b6da"
            ],
            [
             0.4,
             "#fde0ef"
            ],
            [
             0.5,
             "#f7f7f7"
            ],
            [
             0.6,
             "#e6f5d0"
            ],
            [
             0.7,
             "#b8e186"
            ],
            [
             0.8,
             "#7fbc41"
            ],
            [
             0.9,
             "#4d9221"
            ],
            [
             1,
             "#276419"
            ]
           ],
           "sequential": [
            [
             0,
             "#0d0887"
            ],
            [
             0.1111111111111111,
             "#46039f"
            ],
            [
             0.2222222222222222,
             "#7201a8"
            ],
            [
             0.3333333333333333,
             "#9c179e"
            ],
            [
             0.4444444444444444,
             "#bd3786"
            ],
            [
             0.5555555555555556,
             "#d8576b"
            ],
            [
             0.6666666666666666,
             "#ed7953"
            ],
            [
             0.7777777777777778,
             "#fb9f3a"
            ],
            [
             0.8888888888888888,
             "#fdca26"
            ],
            [
             1,
             "#f0f921"
            ]
           ],
           "sequentialminus": [
            [
             0,
             "#0d0887"
            ],
            [
             0.1111111111111111,
             "#46039f"
            ],
            [
             0.2222222222222222,
             "#7201a8"
            ],
            [
             0.3333333333333333,
             "#9c179e"
            ],
            [
             0.4444444444444444,
             "#bd3786"
            ],
            [
             0.5555555555555556,
             "#d8576b"
            ],
            [
             0.6666666666666666,
             "#ed7953"
            ],
            [
             0.7777777777777778,
             "#fb9f3a"
            ],
            [
             0.8888888888888888,
             "#fdca26"
            ],
            [
             1,
             "#f0f921"
            ]
           ]
          },
          "colorway": [
           "#636efa",
           "#EF553B",
           "#00cc96",
           "#ab63fa",
           "#FFA15A",
           "#19d3f3",
           "#FF6692",
           "#B6E880",
           "#FF97FF",
           "#FECB52"
          ],
          "font": {
           "color": "#2a3f5f"
          },
          "geo": {
           "bgcolor": "white",
           "lakecolor": "white",
           "landcolor": "#E5ECF6",
           "showlakes": true,
           "showland": true,
           "subunitcolor": "white"
          },
          "hoverlabel": {
           "align": "left"
          },
          "hovermode": "closest",
          "mapbox": {
           "style": "light"
          },
          "paper_bgcolor": "white",
          "plot_bgcolor": "#E5ECF6",
          "polar": {
           "angularaxis": {
            "gridcolor": "white",
            "linecolor": "white",
            "ticks": ""
           },
           "bgcolor": "#E5ECF6",
           "radialaxis": {
            "gridcolor": "white",
            "linecolor": "white",
            "ticks": ""
           }
          },
          "scene": {
           "xaxis": {
            "backgroundcolor": "#E5ECF6",
            "gridcolor": "white",
            "gridwidth": 2,
            "linecolor": "white",
            "showbackground": true,
            "ticks": "",
            "zerolinecolor": "white"
           },
           "yaxis": {
            "backgroundcolor": "#E5ECF6",
            "gridcolor": "white",
            "gridwidth": 2,
            "linecolor": "white",
            "showbackground": true,
            "ticks": "",
            "zerolinecolor": "white"
           },
           "zaxis": {
            "backgroundcolor": "#E5ECF6",
            "gridcolor": "white",
            "gridwidth": 2,
            "linecolor": "white",
            "showbackground": true,
            "ticks": "",
            "zerolinecolor": "white"
           }
          },
          "shapedefaults": {
           "line": {
            "color": "#2a3f5f"
           }
          },
          "ternary": {
           "aaxis": {
            "gridcolor": "white",
            "linecolor": "white",
            "ticks": ""
           },
           "baxis": {
            "gridcolor": "white",
            "linecolor": "white",
            "ticks": ""
           },
           "bgcolor": "#E5ECF6",
           "caxis": {
            "gridcolor": "white",
            "linecolor": "white",
            "ticks": ""
           }
          },
          "title": {
           "x": 0.05
          },
          "xaxis": {
           "automargin": true,
           "gridcolor": "white",
           "linecolor": "white",
           "ticks": "",
           "title": {
            "standoff": 15
           },
           "zerolinecolor": "white",
           "zerolinewidth": 2
          },
          "yaxis": {
           "automargin": true,
           "gridcolor": "white",
           "linecolor": "white",
           "ticks": "",
           "title": {
            "standoff": 15
           },
           "zerolinecolor": "white",
           "zerolinewidth": 2
          }
         }
        },
        "title": {
         "text": "Top 10 Colaboradores con Mayor Costo por Incapacidades"
        },
        "xaxis": {
         "anchor": "y",
         "domain": [
          0,
          1
         ],
         "title": {
          "text": "Colaborador"
         }
        },
        "yaxis": {
         "anchor": "x",
         "domain": [
          0,
          1
         ],
         "title": {
          "text": "Costo Total ($)"
         }
        }
       }
      }
     },
     "metadata": {},
     "output_type": "display_data"
    }
   ],
   "source": [
    "import plotly.express as px\n",
    "\n",
    "top_costes = df.groupby('c.c_colaborador')['costo_total_incapacidad'].sum().nlargest(10).reset_index()\n",
    "\n",
    "fig1 = px.bar(top_costes, x='c.c_colaborador', y='costo_total_incapacidad',\n",
    "              title='Top 10 Colaboradores con Mayor Costo por Incapacidades',\n",
    "              labels={'c.c_colaborador': 'Colaborador', 'costo_total_incapacidad': 'Costo Total ($)'},\n",
    "              color='costo_total_incapacidad', color_continuous_scale='Blues')\n",
    "\n",
    "fig1.update_layout(xaxis_title='Colaborador', yaxis_title='Costo Total ($)')"
   ]
  },
  {
   "cell_type": "code",
   "execution_count": 6,
   "id": "b2286307",
   "metadata": {},
   "outputs": [
    {
     "data": {
      "application/vnd.plotly.v1+json": {
       "config": {
        "plotlyServerURL": "https://plot.ly"
       },
       "data": [
        {
         "hovertemplate": "Mes-Año=%{x}<br>Días Perdidos=%{y}<extra></extra>",
         "legendgroup": "",
         "line": {
          "color": "#636efa",
          "dash": "solid"
         },
         "marker": {
          "symbol": "circle"
         },
         "mode": "lines+markers",
         "name": "",
         "orientation": "v",
         "showlegend": false,
         "type": "scatter",
         "x": [
          "2021.0-8.0",
          "2021.0-9.0",
          "2021.0-12.0",
          "2022.0-1.0",
          "2022.0-2.0",
          "2022.0-3.0",
          "2022.0-4.0",
          "2022.0-5.0",
          "2022.0-6.0",
          "2022.0-7.0",
          "2022.0-8.0",
          "2022.0-9.0",
          "2022.0-10.0",
          "2022.0-11.0",
          "2022.0-12.0",
          "2023.0-1.0",
          "2023.0-2.0",
          "2023.0-3.0",
          "2023.0-4.0",
          "2023.0-5.0",
          "2023.0-6.0",
          "2023.0-7.0",
          "2023.0-8.0",
          "2023.0-9.0",
          "2023.0-10.0",
          "2023.0-11.0",
          "2023.0-12.0",
          "2024.0-1.0",
          "2024.0-2.0",
          "2024.0-3.0"
         ],
         "xaxis": "x",
         "y": {
          "bdata": "BAADAPgARAQ/A0oEkgQSBAYEEwW0BNEEBgUlBdUEPgSUBMYD0wUWBc8E8AV+B90EOgQCBRUEJAXIBLcB",
          "dtype": "i2"
         },
         "yaxis": "y"
        }
       ],
       "layout": {
        "legend": {
         "tracegroupgap": 0
        },
        "template": {
         "data": {
          "bar": [
           {
            "error_x": {
             "color": "#2a3f5f"
            },
            "error_y": {
             "color": "#2a3f5f"
            },
            "marker": {
             "line": {
              "color": "#E5ECF6",
              "width": 0.5
             },
             "pattern": {
              "fillmode": "overlay",
              "size": 10,
              "solidity": 0.2
             }
            },
            "type": "bar"
           }
          ],
          "barpolar": [
           {
            "marker": {
             "line": {
              "color": "#E5ECF6",
              "width": 0.5
             },
             "pattern": {
              "fillmode": "overlay",
              "size": 10,
              "solidity": 0.2
             }
            },
            "type": "barpolar"
           }
          ],
          "carpet": [
           {
            "aaxis": {
             "endlinecolor": "#2a3f5f",
             "gridcolor": "white",
             "linecolor": "white",
             "minorgridcolor": "white",
             "startlinecolor": "#2a3f5f"
            },
            "baxis": {
             "endlinecolor": "#2a3f5f",
             "gridcolor": "white",
             "linecolor": "white",
             "minorgridcolor": "white",
             "startlinecolor": "#2a3f5f"
            },
            "type": "carpet"
           }
          ],
          "choropleth": [
           {
            "colorbar": {
             "outlinewidth": 0,
             "ticks": ""
            },
            "type": "choropleth"
           }
          ],
          "contour": [
           {
            "colorbar": {
             "outlinewidth": 0,
             "ticks": ""
            },
            "colorscale": [
             [
              0,
              "#0d0887"
             ],
             [
              0.1111111111111111,
              "#46039f"
             ],
             [
              0.2222222222222222,
              "#7201a8"
             ],
             [
              0.3333333333333333,
              "#9c179e"
             ],
             [
              0.4444444444444444,
              "#bd3786"
             ],
             [
              0.5555555555555556,
              "#d8576b"
             ],
             [
              0.6666666666666666,
              "#ed7953"
             ],
             [
              0.7777777777777778,
              "#fb9f3a"
             ],
             [
              0.8888888888888888,
              "#fdca26"
             ],
             [
              1,
              "#f0f921"
             ]
            ],
            "type": "contour"
           }
          ],
          "contourcarpet": [
           {
            "colorbar": {
             "outlinewidth": 0,
             "ticks": ""
            },
            "type": "contourcarpet"
           }
          ],
          "heatmap": [
           {
            "colorbar": {
             "outlinewidth": 0,
             "ticks": ""
            },
            "colorscale": [
             [
              0,
              "#0d0887"
             ],
             [
              0.1111111111111111,
              "#46039f"
             ],
             [
              0.2222222222222222,
              "#7201a8"
             ],
             [
              0.3333333333333333,
              "#9c179e"
             ],
             [
              0.4444444444444444,
              "#bd3786"
             ],
             [
              0.5555555555555556,
              "#d8576b"
             ],
             [
              0.6666666666666666,
              "#ed7953"
             ],
             [
              0.7777777777777778,
              "#fb9f3a"
             ],
             [
              0.8888888888888888,
              "#fdca26"
             ],
             [
              1,
              "#f0f921"
             ]
            ],
            "type": "heatmap"
           }
          ],
          "histogram": [
           {
            "marker": {
             "pattern": {
              "fillmode": "overlay",
              "size": 10,
              "solidity": 0.2
             }
            },
            "type": "histogram"
           }
          ],
          "histogram2d": [
           {
            "colorbar": {
             "outlinewidth": 0,
             "ticks": ""
            },
            "colorscale": [
             [
              0,
              "#0d0887"
             ],
             [
              0.1111111111111111,
              "#46039f"
             ],
             [
              0.2222222222222222,
              "#7201a8"
             ],
             [
              0.3333333333333333,
              "#9c179e"
             ],
             [
              0.4444444444444444,
              "#bd3786"
             ],
             [
              0.5555555555555556,
              "#d8576b"
             ],
             [
              0.6666666666666666,
              "#ed7953"
             ],
             [
              0.7777777777777778,
              "#fb9f3a"
             ],
             [
              0.8888888888888888,
              "#fdca26"
             ],
             [
              1,
              "#f0f921"
             ]
            ],
            "type": "histogram2d"
           }
          ],
          "histogram2dcontour": [
           {
            "colorbar": {
             "outlinewidth": 0,
             "ticks": ""
            },
            "colorscale": [
             [
              0,
              "#0d0887"
             ],
             [
              0.1111111111111111,
              "#46039f"
             ],
             [
              0.2222222222222222,
              "#7201a8"
             ],
             [
              0.3333333333333333,
              "#9c179e"
             ],
             [
              0.4444444444444444,
              "#bd3786"
             ],
             [
              0.5555555555555556,
              "#d8576b"
             ],
             [
              0.6666666666666666,
              "#ed7953"
             ],
             [
              0.7777777777777778,
              "#fb9f3a"
             ],
             [
              0.8888888888888888,
              "#fdca26"
             ],
             [
              1,
              "#f0f921"
             ]
            ],
            "type": "histogram2dcontour"
           }
          ],
          "mesh3d": [
           {
            "colorbar": {
             "outlinewidth": 0,
             "ticks": ""
            },
            "type": "mesh3d"
           }
          ],
          "parcoords": [
           {
            "line": {
             "colorbar": {
              "outlinewidth": 0,
              "ticks": ""
             }
            },
            "type": "parcoords"
           }
          ],
          "pie": [
           {
            "automargin": true,
            "type": "pie"
           }
          ],
          "scatter": [
           {
            "fillpattern": {
             "fillmode": "overlay",
             "size": 10,
             "solidity": 0.2
            },
            "type": "scatter"
           }
          ],
          "scatter3d": [
           {
            "line": {
             "colorbar": {
              "outlinewidth": 0,
              "ticks": ""
             }
            },
            "marker": {
             "colorbar": {
              "outlinewidth": 0,
              "ticks": ""
             }
            },
            "type": "scatter3d"
           }
          ],
          "scattercarpet": [
           {
            "marker": {
             "colorbar": {
              "outlinewidth": 0,
              "ticks": ""
             }
            },
            "type": "scattercarpet"
           }
          ],
          "scattergeo": [
           {
            "marker": {
             "colorbar": {
              "outlinewidth": 0,
              "ticks": ""
             }
            },
            "type": "scattergeo"
           }
          ],
          "scattergl": [
           {
            "marker": {
             "colorbar": {
              "outlinewidth": 0,
              "ticks": ""
             }
            },
            "type": "scattergl"
           }
          ],
          "scattermap": [
           {
            "marker": {
             "colorbar": {
              "outlinewidth": 0,
              "ticks": ""
             }
            },
            "type": "scattermap"
           }
          ],
          "scattermapbox": [
           {
            "marker": {
             "colorbar": {
              "outlinewidth": 0,
              "ticks": ""
             }
            },
            "type": "scattermapbox"
           }
          ],
          "scatterpolar": [
           {
            "marker": {
             "colorbar": {
              "outlinewidth": 0,
              "ticks": ""
             }
            },
            "type": "scatterpolar"
           }
          ],
          "scatterpolargl": [
           {
            "marker": {
             "colorbar": {
              "outlinewidth": 0,
              "ticks": ""
             }
            },
            "type": "scatterpolargl"
           }
          ],
          "scatterternary": [
           {
            "marker": {
             "colorbar": {
              "outlinewidth": 0,
              "ticks": ""
             }
            },
            "type": "scatterternary"
           }
          ],
          "surface": [
           {
            "colorbar": {
             "outlinewidth": 0,
             "ticks": ""
            },
            "colorscale": [
             [
              0,
              "#0d0887"
             ],
             [
              0.1111111111111111,
              "#46039f"
             ],
             [
              0.2222222222222222,
              "#7201a8"
             ],
             [
              0.3333333333333333,
              "#9c179e"
             ],
             [
              0.4444444444444444,
              "#bd3786"
             ],
             [
              0.5555555555555556,
              "#d8576b"
             ],
             [
              0.6666666666666666,
              "#ed7953"
             ],
             [
              0.7777777777777778,
              "#fb9f3a"
             ],
             [
              0.8888888888888888,
              "#fdca26"
             ],
             [
              1,
              "#f0f921"
             ]
            ],
            "type": "surface"
           }
          ],
          "table": [
           {
            "cells": {
             "fill": {
              "color": "#EBF0F8"
             },
             "line": {
              "color": "white"
             }
            },
            "header": {
             "fill": {
              "color": "#C8D4E3"
             },
             "line": {
              "color": "white"
             }
            },
            "type": "table"
           }
          ]
         },
         "layout": {
          "annotationdefaults": {
           "arrowcolor": "#2a3f5f",
           "arrowhead": 0,
           "arrowwidth": 1
          },
          "autotypenumbers": "strict",
          "coloraxis": {
           "colorbar": {
            "outlinewidth": 0,
            "ticks": ""
           }
          },
          "colorscale": {
           "diverging": [
            [
             0,
             "#8e0152"
            ],
            [
             0.1,
             "#c51b7d"
            ],
            [
             0.2,
             "#de77ae"
            ],
            [
             0.3,
             "#f1b6da"
            ],
            [
             0.4,
             "#fde0ef"
            ],
            [
             0.5,
             "#f7f7f7"
            ],
            [
             0.6,
             "#e6f5d0"
            ],
            [
             0.7,
             "#b8e186"
            ],
            [
             0.8,
             "#7fbc41"
            ],
            [
             0.9,
             "#4d9221"
            ],
            [
             1,
             "#276419"
            ]
           ],
           "sequential": [
            [
             0,
             "#0d0887"
            ],
            [
             0.1111111111111111,
             "#46039f"
            ],
            [
             0.2222222222222222,
             "#7201a8"
            ],
            [
             0.3333333333333333,
             "#9c179e"
            ],
            [
             0.4444444444444444,
             "#bd3786"
            ],
            [
             0.5555555555555556,
             "#d8576b"
            ],
            [
             0.6666666666666666,
             "#ed7953"
            ],
            [
             0.7777777777777778,
             "#fb9f3a"
            ],
            [
             0.8888888888888888,
             "#fdca26"
            ],
            [
             1,
             "#f0f921"
            ]
           ],
           "sequentialminus": [
            [
             0,
             "#0d0887"
            ],
            [
             0.1111111111111111,
             "#46039f"
            ],
            [
             0.2222222222222222,
             "#7201a8"
            ],
            [
             0.3333333333333333,
             "#9c179e"
            ],
            [
             0.4444444444444444,
             "#bd3786"
            ],
            [
             0.5555555555555556,
             "#d8576b"
            ],
            [
             0.6666666666666666,
             "#ed7953"
            ],
            [
             0.7777777777777778,
             "#fb9f3a"
            ],
            [
             0.8888888888888888,
             "#fdca26"
            ],
            [
             1,
             "#f0f921"
            ]
           ]
          },
          "colorway": [
           "#636efa",
           "#EF553B",
           "#00cc96",
           "#ab63fa",
           "#FFA15A",
           "#19d3f3",
           "#FF6692",
           "#B6E880",
           "#FF97FF",
           "#FECB52"
          ],
          "font": {
           "color": "#2a3f5f"
          },
          "geo": {
           "bgcolor": "white",
           "lakecolor": "white",
           "landcolor": "#E5ECF6",
           "showlakes": true,
           "showland": true,
           "subunitcolor": "white"
          },
          "hoverlabel": {
           "align": "left"
          },
          "hovermode": "closest",
          "mapbox": {
           "style": "light"
          },
          "paper_bgcolor": "white",
          "plot_bgcolor": "#E5ECF6",
          "polar": {
           "angularaxis": {
            "gridcolor": "white",
            "linecolor": "white",
            "ticks": ""
           },
           "bgcolor": "#E5ECF6",
           "radialaxis": {
            "gridcolor": "white",
            "linecolor": "white",
            "ticks": ""
           }
          },
          "scene": {
           "xaxis": {
            "backgroundcolor": "#E5ECF6",
            "gridcolor": "white",
            "gridwidth": 2,
            "linecolor": "white",
            "showbackground": true,
            "ticks": "",
            "zerolinecolor": "white"
           },
           "yaxis": {
            "backgroundcolor": "#E5ECF6",
            "gridcolor": "white",
            "gridwidth": 2,
            "linecolor": "white",
            "showbackground": true,
            "ticks": "",
            "zerolinecolor": "white"
           },
           "zaxis": {
            "backgroundcolor": "#E5ECF6",
            "gridcolor": "white",
            "gridwidth": 2,
            "linecolor": "white",
            "showbackground": true,
            "ticks": "",
            "zerolinecolor": "white"
           }
          },
          "shapedefaults": {
           "line": {
            "color": "#2a3f5f"
           }
          },
          "ternary": {
           "aaxis": {
            "gridcolor": "white",
            "linecolor": "white",
            "ticks": ""
           },
           "baxis": {
            "gridcolor": "white",
            "linecolor": "white",
            "ticks": ""
           },
           "bgcolor": "#E5ECF6",
           "caxis": {
            "gridcolor": "white",
            "linecolor": "white",
            "ticks": ""
           }
          },
          "title": {
           "x": 0.05
          },
          "xaxis": {
           "automargin": true,
           "gridcolor": "white",
           "linecolor": "white",
           "ticks": "",
           "title": {
            "standoff": 15
           },
           "zerolinecolor": "white",
           "zerolinewidth": 2
          },
          "yaxis": {
           "automargin": true,
           "gridcolor": "white",
           "linecolor": "white",
           "ticks": "",
           "title": {
            "standoff": 15
           },
           "zerolinecolor": "white",
           "zerolinewidth": 2
          }
         }
        },
        "title": {
         "text": "Días Perdidos por Incapacidades en el Tiempo"
        },
        "xaxis": {
         "anchor": "y",
         "domain": [
          0,
          1
         ],
         "title": {
          "text": "Mes-Año"
         }
        },
        "yaxis": {
         "anchor": "x",
         "domain": [
          0,
          1
         ],
         "title": {
          "text": "Días Perdidos"
         }
        }
       }
      }
     },
     "metadata": {},
     "output_type": "display_data"
    }
   ],
   "source": [
    "dias_mensuales = df.groupby(['año', 'mes'])['incapacidad_dias'].sum().reset_index()\n",
    "dias_mensuales['periodo'] = dias_mensuales['año'].astype(str) + '-' + dias_mensuales['mes'].astype(str).str.zfill(2)\n",
    "\n",
    "fig2 = px.line(dias_mensuales, x='periodo', y='incapacidad_dias',\n",
    "               title='Días Perdidos por Incapacidades en el Tiempo',\n",
    "               markers=True, labels={'periodo': 'Mes-Año', 'incapacidad_dias': 'Días Perdidos'})\n",
    "\n",
    "fig2.update_layout(xaxis_title='Mes-Año', yaxis_title='Días Perdidos')"
   ]
  },
  {
   "cell_type": "code",
   "execution_count": 11,
   "id": "1dbced86",
   "metadata": {},
   "outputs": [
    {
     "data": {
      "text/html": [
       "\n",
       "<style>\n",
       "  #altair-viz-95c2bd15e996485598bfe851809427f2.vega-embed {\n",
       "    width: 100%;\n",
       "    display: flex;\n",
       "  }\n",
       "\n",
       "  #altair-viz-95c2bd15e996485598bfe851809427f2.vega-embed details,\n",
       "  #altair-viz-95c2bd15e996485598bfe851809427f2.vega-embed details summary {\n",
       "    position: relative;\n",
       "  }\n",
       "</style>\n",
       "<div id=\"altair-viz-95c2bd15e996485598bfe851809427f2\"></div>\n",
       "<script type=\"text/javascript\">\n",
       "  var VEGA_DEBUG = (typeof VEGA_DEBUG == \"undefined\") ? {} : VEGA_DEBUG;\n",
       "  (function(spec, embedOpt){\n",
       "    let outputDiv = document.currentScript.previousElementSibling;\n",
       "    if (outputDiv.id !== \"altair-viz-95c2bd15e996485598bfe851809427f2\") {\n",
       "      outputDiv = document.getElementById(\"altair-viz-95c2bd15e996485598bfe851809427f2\");\n",
       "    }\n",
       "\n",
       "    const paths = {\n",
       "      \"vega\": \"https://cdn.jsdelivr.net/npm/vega@5?noext\",\n",
       "      \"vega-lib\": \"https://cdn.jsdelivr.net/npm/vega-lib?noext\",\n",
       "      \"vega-lite\": \"https://cdn.jsdelivr.net/npm/vega-lite@5.20.1?noext\",\n",
       "      \"vega-embed\": \"https://cdn.jsdelivr.net/npm/vega-embed@6?noext\",\n",
       "    };\n",
       "\n",
       "    function maybeLoadScript(lib, version) {\n",
       "      var key = `${lib.replace(\"-\", \"\")}_version`;\n",
       "      return (VEGA_DEBUG[key] == version) ?\n",
       "        Promise.resolve(paths[lib]) :\n",
       "        new Promise(function(resolve, reject) {\n",
       "          var s = document.createElement('script');\n",
       "          document.getElementsByTagName(\"head\")[0].appendChild(s);\n",
       "          s.async = true;\n",
       "          s.onload = () => {\n",
       "            VEGA_DEBUG[key] = version;\n",
       "            return resolve(paths[lib]);\n",
       "          };\n",
       "          s.onerror = () => reject(`Error loading script: ${paths[lib]}`);\n",
       "          s.src = paths[lib];\n",
       "        });\n",
       "    }\n",
       "\n",
       "    function showError(err) {\n",
       "      outputDiv.innerHTML = `<div class=\"error\" style=\"color:red;\">${err}</div>`;\n",
       "      throw err;\n",
       "    }\n",
       "\n",
       "    function displayChart(vegaEmbed) {\n",
       "      vegaEmbed(outputDiv, spec, embedOpt)\n",
       "        .catch(err => showError(`Javascript Error: ${err.message}<br>This usually means there's a typo in your chart specification. See the javascript console for the full traceback.`));\n",
       "    }\n",
       "\n",
       "    if(typeof define === \"function\" && define.amd) {\n",
       "      requirejs.config({paths});\n",
       "      let deps = [\"vega-embed\"];\n",
       "      require(deps, displayChart, err => showError(`Error loading script: ${err.message}`));\n",
       "    } else {\n",
       "      maybeLoadScript(\"vega\", \"5\")\n",
       "        .then(() => maybeLoadScript(\"vega-lite\", \"5.20.1\"))\n",
       "        .then(() => maybeLoadScript(\"vega-embed\", \"6\"))\n",
       "        .catch(showError)\n",
       "        .then(() => displayChart(vegaEmbed));\n",
       "    }\n",
       "  })({\"config\": {\"view\": {\"continuousWidth\": 300, \"continuousHeight\": 300}}, \"data\": {\"name\": \"data-3d606b243581c96f8fc0438ee016d941\"}, \"mark\": {\"type\": \"bar\"}, \"encoding\": {\"tooltip\": [{\"field\": \"incapacidad_diagn\\u00f3stico\", \"type\": \"nominal\"}, {\"field\": \"incapacidad_dias\", \"type\": \"quantitative\"}], \"x\": {\"field\": \"incapacidad_dias\", \"title\": \"D\\u00edas Totales\", \"type\": \"quantitative\"}, \"y\": {\"field\": \"incapacidad_diagn\\u00f3stico\", \"sort\": \"-x\", \"title\": \"Diagn\\u00f3stico\", \"type\": \"nominal\"}}, \"title\": \"Top 10 Diagn\\u00f3sticos con M\\u00e1s D\\u00edas Perdidos\", \"$schema\": \"https://vega.github.io/schema/vega-lite/v5.20.1.json\", \"datasets\": {\"data-3d606b243581c96f8fc0438ee016d941\": [{\"incapacidad_diagn\\u00f3stico\": \"O800\", \"incapacidad_dias\": 1858}, {\"incapacidad_diagn\\u00f3stico\": \"G560\", \"incapacidad_dias\": 856}, {\"incapacidad_diagn\\u00f3stico\": \"M545\", \"incapacidad_dias\": 785}, {\"incapacidad_diagn\\u00f3stico\": \"J00X\", \"incapacidad_dias\": 663}, {\"incapacidad_diagn\\u00f3stico\": \"S832\", \"incapacidad_dias\": 660}, {\"incapacidad_diagn\\u00f3stico\": \"O829\", \"incapacidad_dias\": 658}, {\"incapacidad_diagn\\u00f3stico\": \"S525\", \"incapacidad_dias\": 656}, {\"incapacidad_diagn\\u00f3stico\": \"A09X\", \"incapacidad_dias\": 524}, {\"incapacidad_diagn\\u00f3stico\": \"S428\", \"incapacidad_dias\": 497}, {\"incapacidad_diagn\\u00f3stico\": \"C509\", \"incapacidad_dias\": 480}]}}, {\"mode\": \"vega-lite\"});\n",
       "</script>"
      ],
      "text/plain": [
       "alt.Chart(...)"
      ]
     },
     "execution_count": 11,
     "metadata": {},
     "output_type": "execute_result"
    }
   ],
   "source": [
    "import altair as alt\n",
    "\n",
    "top_diag = df.groupby('incapacidad_diagnóstico')['incapacidad_dias'].sum().nlargest(10).reset_index()\n",
    "\n",
    "fig3 = alt.Chart(top_diag).mark_bar().encode(\n",
    "    x=alt.X('incapacidad_dias:Q', title='Días Totales'),\n",
    "    y=alt.Y('incapacidad_diagnóstico:N', sort='-x', title='Diagnóstico'),\n",
    "    tooltip=['incapacidad_diagnóstico', 'incapacidad_dias']\n",
    ").properties(title='Top 10 Diagnósticos con Más Días Perdidos')\n",
    "fig3"
   ]
  },
  {
   "cell_type": "code",
   "execution_count": 17,
   "id": "136b7c4f",
   "metadata": {},
   "outputs": [
    {
     "data": {
      "image/png": "[encoded data removed]",
      "text/plain": [
       "<Figure size 1000x600 with 1 Axes>"
      ]
     },
     "metadata": {},
     "output_type": "display_data"
    },
    {
     "data": {
      "text/html": [
       "\n",
       "<style>\n",
       "  #altair-viz-dad40eec227745938c09363e448d1ac2.vega-embed {\n",
       "    width: 100%;\n",
       "    display: flex;\n",
       "  }\n",
       "\n",
       "  #altair-viz-dad40eec227745938c09363e448d1ac2.vega-embed details,\n",
       "  #altair-viz-dad40eec227745938c09363e448d1ac2.vega-embed details summary {\n",
       "    position: relative;\n",
       "  }\n",
       "</style>\n",
       "<div id=\"altair-viz-dad40eec227745938c09363e448d1ac2\"></div>\n",
       "<script type=\"text/javascript\">\n",
       "  var VEGA_DEBUG = (typeof VEGA_DEBUG == \"undefined\") ? {} : VEGA_DEBUG;\n",
       "  (function(spec, embedOpt){\n",
       "    let outputDiv = document.currentScript.previousElementSibling;\n",
       "    if (outputDiv.id !== \"altair-viz-dad40eec227745938c09363e448d1ac2\") {\n",
       "      outputDiv = document.getElementById(\"altair-viz-dad40eec227745938c09363e448d1ac2\");\n",
       "    }\n",
       "\n",
       "    const paths = {\n",
       "      \"vega\": \"https://cdn.jsdelivr.net/npm/vega@5?noext\",\n",
       "      \"vega-lib\": \"https://cdn.jsdelivr.net/npm/vega-lib?noext\",\n",
       "      \"vega-lite\": \"https://cdn.jsdelivr.net/npm/vega-lite@5.20.1?noext\",\n",
       "      \"vega-embed\": \"https://cdn.jsdelivr.net/npm/vega-embed@6?noext\",\n",
       "    };\n",
       "\n",
       "    function maybeLoadScript(lib, version) {\n",
       "      var key = `${lib.replace(\"-\", \"\")}_version`;\n",
       "      return (VEGA_DEBUG[key] == version) ?\n",
       "        Promise.resolve(paths[lib]) :\n",
       "        new Promise(function(resolve, reject) {\n",
       "          var s = document.createElement('script');\n",
       "          document.getElementsByTagName(\"head\")[0].appendChild(s);\n",
       "          s.async = true;\n",
       "          s.onload = () => {\n",
       "            VEGA_DEBUG[key] = version;\n",
       "            return resolve(paths[lib]);\n",
       "          };\n",
       "          s.onerror = () => reject(`Error loading script: ${paths[lib]}`);\n",
       "          s.src = paths[lib];\n",
       "        });\n",
       "    }\n",
       "\n",
       "    function showError(err) {\n",
       "      outputDiv.innerHTML = `<div class=\"error\" style=\"color:red;\">${err}</div>`;\n",
       "      throw err;\n",
       "    }\n",
       "\n",
       "    function displayChart(vegaEmbed) {\n",
       "      vegaEmbed(outputDiv, spec, embedOpt)\n",
       "        .catch(err => showError(`Javascript Error: ${err.message}<br>This usually means there's a typo in your chart specification. See the javascript console for the full traceback.`));\n",
       "    }\n",
       "\n",
       "    if(typeof define === \"function\" && define.amd) {\n",
       "      requirejs.config({paths});\n",
       "      let deps = [\"vega-embed\"];\n",
       "      require(deps, displayChart, err => showError(`Error loading script: ${err.message}`));\n",
       "    } else {\n",
       "      maybeLoadScript(\"vega\", \"5\")\n",
       "        .then(() => maybeLoadScript(\"vega-lite\", \"5.20.1\"))\n",
       "        .then(() => maybeLoadScript(\"vega-embed\", \"6\"))\n",
       "        .catch(showError)\n",
       "        .then(() => displayChart(vegaEmbed));\n",
       "    }\n",
       "  })({\"config\": {\"view\": {\"continuousWidth\": 300, \"continuousHeight\": 300}}, \"data\": {\"name\": \"data-6b826303f7c60836b6f944f6ba90fac6\"}, \"mark\": {\"type\": \"bar\"}, \"encoding\": {\"tooltip\": [{\"field\": \"c.c_colaborador\", \"type\": \"quantitative\"}, {\"field\": \"incapacidades_acumuladas_por_colaborador\", \"type\": \"quantitative\"}], \"x\": {\"field\": \"incapacidades_acumuladas_por_colaborador\", \"title\": \"Cantidad de Incapacidades\", \"type\": \"quantitative\"}, \"y\": {\"field\": \"c.c_colaborador\", \"sort\": \"-x\", \"title\": \"Colaborador\", \"type\": \"nominal\"}}, \"title\": \"Top 10 Colaboradores con M\\u00e1s Incapacidades\", \"$schema\": \"https://vega.github.io/schema/vega-lite/v5.20.1.json\", \"datasets\": {\"data-6b826303f7c60836b6f944f6ba90fac6\": [{\"c.c_colaborador\": 76, \"incapacidades_acumuladas_por_colaborador\": 63}, {\"c.c_colaborador\": 118, \"incapacidades_acumuladas_por_colaborador\": 58}, {\"c.c_colaborador\": 270, \"incapacidades_acumuladas_por_colaborador\": 58}, {\"c.c_colaborador\": 543, \"incapacidades_acumuladas_por_colaborador\": 54}, {\"c.c_colaborador\": 37, \"incapacidades_acumuladas_por_colaborador\": 52}, {\"c.c_colaborador\": 85, \"incapacidades_acumuladas_por_colaborador\": 35}, {\"c.c_colaborador\": 73, \"incapacidades_acumuladas_por_colaborador\": 33}, {\"c.c_colaborador\": 104, \"incapacidades_acumuladas_por_colaborador\": 31}, {\"c.c_colaborador\": 908, \"incapacidades_acumuladas_por_colaborador\": 31}, {\"c.c_colaborador\": 255, \"incapacidades_acumuladas_por_colaborador\": 30}]}}, {\"mode\": \"vega-lite\"});\n",
       "</script>"
      ],
      "text/plain": [
       "alt.Chart(...)"
      ]
     },
     "execution_count": 17,
     "metadata": {},
     "output_type": "execute_result"
    }
   ],
   "source": [
    "top_reincidentes = df.groupby('c.c_colaborador')['incapacidades_acumuladas_por_colaborador'].first().sort_values(ascending=False).head(10)\n",
    "\n",
    "plt.figure(figsize=(10,6))\n",
    "top_reincidentes.plot(kind='bar', color='darkslateblue')\n",
    "plt.title('Top 10 Colaboradores con Más Incapacidades')\n",
    "plt.xlabel('Colaborador')\n",
    "plt.ylabel('Cantidad de Incapacidades')\n",
    "plt.xticks(rotation=45)\n",
    "plt.tight_layout()\n",
    "plt.show()\n",
    "\n",
    "top_reincidentes = df.groupby('c.c_colaborador')['incapacidades_acumuladas_por_colaborador'].first().nlargest(10).reset_index()\n",
    "\n",
    "fig5 = alt.Chart(top_reincidentes).mark_bar().encode(\n",
    "    x=alt.X('incapacidades_acumuladas_por_colaborador:Q', title='Cantidad de Incapacidades'),\n",
    "    y=alt.Y('c.c_colaborador:N', sort='-x', title='Colaborador'),\n",
    "    tooltip=['c.c_colaborador', 'incapacidades_acumuladas_por_colaborador']\n",
    ").properties(title='Top 10 Colaboradores con Más Incapacidades')\n",
    "\n",
    "fig5\n"
   ]
  },
  {
   "cell_type": "code",
   "execution_count": 19,
   "id": "a9ba8686",
   "metadata": {},
   "outputs": [
    {
     "data": {
      "application/vnd.plotly.v1+json": {
       "config": {
        "plotlyServerURL": "https://plot.ly"
       },
       "data": [
        {
         "bingroup": "x",
         "hovertemplate": "Días Promedio=%{x}<br>count=%{y}<extra></extra>",
         "legendgroup": "",
         "marker": {
          "color": "#636efa",
          "pattern": {
           "shape": ""
          }
         },
         "name": "",
         "nbinsx": 30,
         "orientation": "v",
         "showlegend": false,
         "type": "histogram",
         "x": {
          "bdata": "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",
          "dtype": "f8"
         },
         "xaxis": "x",
         "yaxis": "y"
        }
       ],
       "layout": {
        "barmode": "relative",
        "legend": {
         "tracegroupgap": 0
        },
        "template": {
         "data": {
          "bar": [
           {
            "error_x": {
             "color": "#2a3f5f"
            },
            "error_y": {
             "color": "#2a3f5f"
            },
            "marker": {
             "line": {
              "color": "#E5ECF6",
              "width": 0.5
             },
             "pattern": {
              "fillmode": "overlay",
              "size": 10,
              "solidity": 0.2
             }
            },
            "type": "bar"
           }
          ],
          "barpolar": [
           {
            "marker": {
             "line": {
              "color": "#E5ECF6",
              "width": 0.5
             },
             "pattern": {
              "fillmode": "overlay",
              "size": 10,
              "solidity": 0.2
             }
            },
            "type": "barpolar"
           }
          ],
          "carpet": [
           {
            "aaxis": {
             "endlinecolor": "#2a3f5f",
             "gridcolor": "white",
             "linecolor": "white",
             "minorgridcolor": "white",
             "startlinecolor": "#2a3f5f"
            },
            "baxis": {
             "endlinecolor": "#2a3f5f",
             "gridcolor": "white",
             "linecolor": "white",
             "minorgridcolor": "white",
             "startlinecolor": "#2a3f5f"
            },
            "type": "carpet"
           }
          ],
          "choropleth": [
           {
            "colorbar": {
             "outlinewidth": 0,
             "ticks": ""
            },
            "type": "choropleth"
           }
          ],
          "contour": [
           {
            "colorbar": {
             "outlinewidth": 0,
             "ticks": ""
            },
            "colorscale": [
             [
              0,
              "#0d0887"
             ],
             [
              0.1111111111111111,
              "#46039f"
             ],
             [
              0.2222222222222222,
              "#7201a8"
             ],
             [
              0.3333333333333333,
              "#9c179e"
             ],
             [
              0.4444444444444444,
              "#bd3786"
             ],
             [
              0.5555555555555556,
              "#d8576b"
             ],
             [
              0.6666666666666666,
              "#ed7953"
             ],
             [
              0.7777777777777778,
              "#fb9f3a"
             ],
             [
              0.8888888888888888,
              "#fdca26"
             ],
             [
              1,
              "#f0f921"
             ]
            ],
            "type": "contour"
           }
          ],
          "contourcarpet": [
           {
            "colorbar": {
             "outlinewidth": 0,
             "ticks": ""
            },
            "type": "contourcarpet"
           }
          ],
          "heatmap": [
           {
            "colorbar": {
             "outlinewidth": 0,
             "ticks": ""
            },
            "colorscale": [
             [
              0,
              "#0d0887"
             ],
             [
              0.1111111111111111,
              "#46039f"
             ],
             [
              0.2222222222222222,
              "#7201a8"
             ],
             [
              0.3333333333333333,
              "#9c179e"
             ],
             [
              0.4444444444444444,
              "#bd3786"
             ],
             [
              0.5555555555555556,
              "#d8576b"
             ],
             [
              0.6666666666666666,
              "#ed7953"
             ],
             [
              0.7777777777777778,
              "#fb9f3a"
             ],
             [
              0.8888888888888888,
              "#fdca26"
             ],
             [
              1,
              "#f0f921"
             ]
            ],
            "type": "heatmap"
           }
          ],
          "histogram": [
           {
            "marker": {
             "pattern": {
              "fillmode": "overlay",
              "size": 10,
              "solidity": 0.2
             }
            },
            "type": "histogram"
           }
          ],
          "histogram2d": [
           {
            "colorbar": {
             "outlinewidth": 0,
             "ticks": ""
            },
            "colorscale": [
             [
              0,
              "#0d0887"
             ],
             [
              0.1111111111111111,
              "#46039f"
             ],
             [
              0.2222222222222222,
              "#7201a8"
             ],
             [
              0.3333333333333333,
              "#9c179e"
             ],
             [
              0.4444444444444444,
              "#bd3786"
             ],
             [
              0.5555555555555556,
              "#d8576b"
             ],
             [
              0.6666666666666666,
              "#ed7953"
             ],
             [
              0.7777777777777778,
              "#fb9f3a"
             ],
             [
              0.8888888888888888,
              "#fdca26"
             ],
             [
              1,
              "#f0f921"
             ]
            ],
            "type": "histogram2d"
           }
          ],
          "histogram2dcontour": [
           {
            "colorbar": {
             "outlinewidth": 0,
             "ticks": ""
            },
            "colorscale": [
             [
              0,
              "#0d0887"
             ],
             [
              0.1111111111111111,
              "#46039f"
             ],
             [
              0.2222222222222222,
              "#7201a8"
             ],
             [
              0.3333333333333333,
              "#9c179e"
             ],
             [
              0.4444444444444444,
              "#bd3786"
             ],
             [
              0.5555555555555556,
              "#d8576b"
             ],
             [
              0.6666666666666666,
              "#ed7953"
             ],
             [
              0.7777777777777778,
              "#fb9f3a"
             ],
             [
              0.8888888888888888,
              "#fdca26"
             ],
             [
              1,
              "#f0f921"
             ]
            ],
            "type": "histogram2dcontour"
           }
          ],
          "mesh3d": [
           {
            "colorbar": {
             "outlinewidth": 0,
             "ticks": ""
            },
            "type": "mesh3d"
           }
          ],
          "parcoords": [
           {
            "line": {
             "colorbar": {
              "outlinewidth": 0,
              "ticks": ""
             }
            },
            "type": "parcoords"
           }
          ],
          "pie": [
           {
            "automargin": true,
            "type": "pie"
           }
          ],
          "scatter": [
           {
            "fillpattern": {
             "fillmode": "overlay",
             "size": 10,
             "solidity": 0.2
            },
            "type": "scatter"
           }
          ],
          "scatter3d": [
           {
            "line": {
             "colorbar": {
              "outlinewidth": 0,
              "ticks": ""
             }
            },
            "marker": {
             "colorbar": {
              "outlinewidth": 0,
              "ticks": ""
             }
            },
            "type": "scatter3d"
           }
          ],
          "scattercarpet": [
           {
            "marker": {
             "colorbar": {
              "outlinewidth": 0,
              "ticks": ""
             }
            },
            "type": "scattercarpet"
           }
          ],
          "scattergeo": [
           {
            "marker": {
             "colorbar": {
              "outlinewidth": 0,
              "ticks": ""
             }
            },
            "type": "scattergeo"
           }
          ],
          "scattergl": [
           {
            "marker": {
             "colorbar": {
              "outlinewidth": 0,
              "ticks": ""
             }
            },
            "type": "scattergl"
           }
          ],
          "scattermap": [
           {
            "marker": {
             "colorbar": {
              "outlinewidth": 0,
              "ticks": ""
             }
            },
            "type": "scattermap"
           }
          ],
          "scattermapbox": [
           {
            "marker": {
             "colorbar": {
              "outlinewidth": 0,
              "ticks": ""
             }
            },
            "type": "scattermapbox"
           }
          ],
          "scatterpolar": [
           {
            "marker": {
             "colorbar": {
              "outlinewidth": 0,
              "ticks": ""
             }
            },
            "type": "scatterpolar"
           }
          ],
          "scatterpolargl": [
           {
            "marker": {
             "colorbar": {
              "outlinewidth": 0,
              "ticks": ""
             }
            },
            "type": "scatterpolargl"
           }
          ],
          "scatterternary": [
           {
            "marker": {
             "colorbar": {
              "outlinewidth": 0,
              "ticks": ""
             }
            },
            "type": "scatterternary"
           }
          ],
          "surface": [
           {
            "colorbar": {
             "outlinewidth": 0,
             "ticks": ""
            },
            "colorscale": [
             [
              0,
              "#0d0887"
             ],
             [
              0.1111111111111111,
              "#46039f"
             ],
             [
              0.2222222222222222,
              "#7201a8"
             ],
             [
              0.3333333333333333,
              "#9c179e"
             ],
             [
              0.4444444444444444,
              "#bd3786"
             ],
             [
              0.5555555555555556,
              "#d8576b"
             ],
             [
              0.6666666666666666,
              "#ed7953"
             ],
             [
              0.7777777777777778,
              "#fb9f3a"
             ],
             [
              0.8888888888888888,
              "#fdca26"
             ],
             [
              1,
              "#f0f921"
             ]
            ],
            "type": "surface"
           }
          ],
          "table": [
           {
            "cells": {
             "fill": {
              "color": "#EBF0F8"
             },
             "line": {
              "color": "white"
             }
            },
            "header": {
             "fill": {
              "color": "#C8D4E3"
             },
             "line": {
              "color": "white"
             }
            },
            "type": "table"
           }
          ]
         },
         "layout": {
          "annotationdefaults": {
           "arrowcolor": "#2a3f5f",
           "arrowhead": 0,
           "arrowwidth": 1
          },
          "autotypenumbers": "strict",
          "coloraxis": {
           "colorbar": {
            "outlinewidth": 0,
            "ticks": ""
           }
          },
          "colorscale": {
           "diverging": [
            [
             0,
             "#8e0152"
            ],
            [
             0.1,
             "#c51b7d"
            ],
            [
             0.2,
             "#de77ae"
            ],
            [
             0.3,
             "#f1b6da"
            ],
            [
             0.4,
             "#fde0ef"
            ],
            [
             0.5,
             "#f7f7f7"
            ],
            [
             0.6,
             "#e6f5d0"
            ],
            [
             0.7,
             "#b8e186"
            ],
            [
             0.8,
             "#7fbc41"
            ],
            [
             0.9,
             "#4d9221"
            ],
            [
             1,
             "#276419"
            ]
           ],
           "sequential": [
            [
             0,
             "#0d0887"
            ],
            [
             0.1111111111111111,
             "#46039f"
            ],
            [
             0.2222222222222222,
             "#7201a8"
            ],
            [
             0.3333333333333333,
             "#9c179e"
            ],
            [
             0.4444444444444444,
             "#bd3786"
            ],
            [
             0.5555555555555556,
             "#d8576b"
            ],
            [
             0.6666666666666666,
             "#ed7953"
            ],
            [
             0.7777777777777778,
             "#fb9f3a"
            ],
            [
             0.8888888888888888,
             "#fdca26"
            ],
            [
             1,
             "#f0f921"
            ]
           ],
           "sequentialminus": [
            [
             0,
             "#0d0887"
            ],
            [
             0.1111111111111111,
             "#46039f"
            ],
            [
             0.2222222222222222,
             "#7201a8"
            ],
            [
             0.3333333333333333,
             "#9c179e"
            ],
            [
             0.4444444444444444,
             "#bd3786"
            ],
            [
             0.5555555555555556,
             "#d8576b"
            ],
            [
             0.6666666666666666,
             "#ed7953"
            ],
            [
             0.7777777777777778,
             "#fb9f3a"
            ],
            [
             0.8888888888888888,
             "#fdca26"
            ],
            [
             1,
             "#f0f921"
            ]
           ]
          },
          "colorway": [
           "#636efa",
           "#EF553B",
           "#00cc96",
           "#ab63fa",
           "#FFA15A",
           "#19d3f3",
           "#FF6692",
           "#B6E880",
           "#FF97FF",
           "#FECB52"
          ],
          "font": {
           "color": "#2a3f5f"
          },
          "geo": {
           "bgcolor": "white",
           "lakecolor": "white",
           "landcolor": "#E5ECF6",
           "showlakes": true,
           "showland": true,
           "subunitcolor": "white"
          },
          "hoverlabel": {
           "align": "left"
          },
          "hovermode": "closest",
          "mapbox": {
           "style": "light"
          },
          "paper_bgcolor": "white",
          "plot_bgcolor": "#E5ECF6",
          "polar": {
           "angularaxis": {
            "gridcolor": "white",
            "linecolor": "white",
            "ticks": ""
           },
           "bgcolor": "#E5ECF6",
           "radialaxis": {
            "gridcolor": "white",
            "linecolor": "white",
            "ticks": ""
           }
          },
          "scene": {
           "xaxis": {
            "backgroundcolor": "#E5ECF6",
            "gridcolor": "white",
            "gridwidth": 2,
            "linecolor": "white",
            "showbackground": true,
            "ticks": "",
            "zerolinecolor": "white"
           },
           "yaxis": {
            "backgroundcolor": "#E5ECF6",
            "gridcolor": "white",
            "gridwidth": 2,
            "linecolor": "white",
            "showbackground": true,
            "ticks": "",
            "zerolinecolor": "white"
           },
           "zaxis": {
            "backgroundcolor": "#E5ECF6",
            "gridcolor": "white",
            "gridwidth": 2,
            "linecolor": "white",
            "showbackground": true,
            "ticks": "",
            "zerolinecolor": "white"
           }
          },
          "shapedefaults": {
           "line": {
            "color": "#2a3f5f"
           }
          },
          "ternary": {
           "aaxis": {
            "gridcolor": "white",
            "linecolor": "white",
            "ticks": ""
           },
           "baxis": {
            "gridcolor": "white",
            "linecolor": "white",
            "ticks": ""
           },
           "bgcolor": "#E5ECF6",
           "caxis": {
            "gridcolor": "white",
            "linecolor": "white",
            "ticks": ""
           }
          },
          "title": {
           "x": 0.05
          },
          "xaxis": {
           "automargin": true,
           "gridcolor": "white",
           "linecolor": "white",
           "ticks": "",
           "title": {
            "standoff": 15
           },
           "zerolinecolor": "white",
           "zerolinewidth": 2
          },
          "yaxis": {
           "automargin": true,
           "gridcolor": "white",
           "linecolor": "white",
           "ticks": "",
           "title": {
            "standoff": 15
           },
           "zerolinecolor": "white",
           "zerolinewidth": 2
          }
         }
        },
        "title": {
         "text": "Distribución de Días Promedio por Incapacidad por Colaborador"
        },
        "xaxis": {
         "anchor": "y",
         "domain": [
          0,
          1
         ],
         "title": {
          "text": "Días Promedio por Incapacidad"
         }
        },
        "yaxis": {
         "anchor": "x",
         "domain": [
          0,
          1
         ],
         "title": {
          "text": "Frecuencia"
         }
        }
       }
      }
     },
     "metadata": {},
     "output_type": "display_data"
    }
   ],
   "source": [
    "fig6 = px.histogram(df, x='dias_promedio_por_incapacidad_colaborador',\n",
    "                    nbins=30,\n",
    "                    title='Distribución de Días Promedio por Incapacidad por Colaborador',\n",
    "                    labels={'dias_promedio_por_incapacidad_colaborador': 'Días Promedio'})\n",
    "\n",
    "fig6.update_layout(xaxis_title='Días Promedio por Incapacidad', yaxis_title='Frecuencia')\n"
   ]
  },
  {
   "cell_type": "code",
   "execution_count": 22,
   "id": "1ba734ac",
   "metadata": {},
   "outputs": [
    {
     "data": {
      "text/html": [
       "\n",
       "<style>\n",
       "  #altair-viz-bc29f59a651446dbad5dcaddaa88acb2.vega-embed {\n",
       "    width: 100%;\n",
       "    display: flex;\n",
       "  }\n",
       "\n",
       "  #altair-viz-bc29f59a651446dbad5dcaddaa88acb2.vega-embed details,\n",
       "  #altair-viz-bc29f59a651446dbad5dcaddaa88acb2.vega-embed details summary {\n",
       "    position: relative;\n",
       "  }\n",
       "</style>\n",
       "<div id=\"altair-viz-bc29f59a651446dbad5dcaddaa88acb2\"></div>\n",
       "<script type=\"text/javascript\">\n",
       "  var VEGA_DEBUG = (typeof VEGA_DEBUG == \"undefined\") ? {} : VEGA_DEBUG;\n",
       "  (function(spec, embedOpt){\n",
       "    let outputDiv = document.currentScript.previousElementSibling;\n",
       "    if (outputDiv.id !== \"altair-viz-bc29f59a651446dbad5dcaddaa88acb2\") {\n",
       "      outputDiv = document.getElementById(\"altair-viz-bc29f59a651446dbad5dcaddaa88acb2\");\n",
       "    }\n",
       "\n",
       "    const paths = {\n",
       "      \"vega\": \"https://cdn.jsdelivr.net/npm/vega@5?noext\",\n",
       "      \"vega-lib\": \"https://cdn.jsdelivr.net/npm/vega-lib?noext\",\n",
       "      \"vega-lite\": \"https://cdn.jsdelivr.net/npm/vega-lite@5.20.1?noext\",\n",
       "      \"vega-embed\": \"https://cdn.jsdelivr.net/npm/vega-embed@6?noext\",\n",
       "    };\n",
       "\n",
       "    function maybeLoadScript(lib, version) {\n",
       "      var key = `${lib.replace(\"-\", \"\")}_version`;\n",
       "      return (VEGA_DEBUG[key] == version) ?\n",
       "        Promise.resolve(paths[lib]) :\n",
       "        new Promise(function(resolve, reject) {\n",
       "          var s = document.createElement('script');\n",
       "          document.getElementsByTagName(\"head\")[0].appendChild(s);\n",
       "          s.async = true;\n",
       "          s.onload = () => {\n",
       "            VEGA_DEBUG[key] = version;\n",
       "            return resolve(paths[lib]);\n",
       "          };\n",
       "          s.onerror = () => reject(`Error loading script: ${paths[lib]}`);\n",
       "          s.src = paths[lib];\n",
       "        });\n",
       "    }\n",
       "\n",
       "    function showError(err) {\n",
       "      outputDiv.innerHTML = `<div class=\"error\" style=\"color:red;\">${err}</div>`;\n",
       "      throw err;\n",
       "    }\n",
       "\n",
       "    function displayChart(vegaEmbed) {\n",
       "      vegaEmbed(outputDiv, spec, embedOpt)\n",
       "        .catch(err => showError(`Javascript Error: ${err.message}<br>This usually means there's a typo in your chart specification. See the javascript console for the full traceback.`));\n",
       "    }\n",
       "\n",
       "    if(typeof define === \"function\" && define.amd) {\n",
       "      requirejs.config({paths});\n",
       "      let deps = [\"vega-embed\"];\n",
       "      require(deps, displayChart, err => showError(`Error loading script: ${err.message}`));\n",
       "    } else {\n",
       "      maybeLoadScript(\"vega\", \"5\")\n",
       "        .then(() => maybeLoadScript(\"vega-lite\", \"5.20.1\"))\n",
       "        .then(() => maybeLoadScript(\"vega-embed\", \"6\"))\n",
       "        .catch(showError)\n",
       "        .then(() => displayChart(vegaEmbed));\n",
       "    }\n",
       "  })({\"config\": {\"view\": {\"continuousWidth\": 300, \"continuousHeight\": 300}}, \"data\": {\"name\": \"data-519a894fb8eb5a58102c0cfb61997502\"}, \"mark\": {\"type\": \"bar\"}, \"encoding\": {\"tooltip\": [{\"field\": \"ips\", \"type\": \"nominal\"}, {\"field\": \"incapacidad_dias\", \"type\": \"quantitative\"}], \"x\": {\"field\": \"incapacidad_dias\", \"title\": \"D\\u00edas Totales\", \"type\": \"quantitative\"}, \"y\": {\"field\": \"ips\", \"sort\": \"-x\", \"title\": \"IPS\", \"type\": \"nominal\"}}, \"title\": \"Top 10 IPS por D\\u00edas Totales de Incapacidad\", \"$schema\": \"https://vega.github.io/schema/vega-lite/v5.20.1.json\", \"datasets\": {\"data-519a894fb8eb5a58102c0cfb61997502\": [{\"ips\": \"VIRREY SOLIS\", \"incapacidad_dias\": 2141}, {\"ips\": \"COLSUBSIDIO\", \"incapacidad_dias\": 1223}, {\"ips\": \"IPS CLINICA ROQUE ARMANDO LOPEZ\", \"incapacidad_dias\": 1027}, {\"ips\": \"HOSPITAL REGIONAL ALFONSO JARAMILLO SALAZAR\", \"incapacidad_dias\": 928}, {\"ips\": \"CENTRO POLICLINICO DEL OLAYA\", \"incapacidad_dias\": 631}, {\"ips\": \"VIVA 1A IPS YUMBO\", \"incapacidad_dias\": 532}, {\"ips\": \"CLINICA NUEVA DE CALI SAS\", \"incapacidad_dias\": 468}, {\"ips\": \"CLINICA SAN RAFAEL\", \"incapacidad_dias\": 465}, {\"ips\": \"COMPENSAR\", \"incapacidad_dias\": 464}, {\"ips\": \"ESE HOSPITAL SAN MARCOS CHINCHINA\", \"incapacidad_dias\": 440}]}}, {\"mode\": \"vega-lite\"});\n",
       "</script>"
      ],
      "text/plain": [
       "alt.Chart(...)"
      ]
     },
     "execution_count": 22,
     "metadata": {},
     "output_type": "execute_result"
    }
   ],
   "source": [
    "top_ips = df.groupby('ips')['incapacidad_dias'].sum().nlargest(10).reset_index()\n",
    "\n",
    "fig7 = alt.Chart(top_ips).mark_bar().encode(\n",
    "    x=alt.X('incapacidad_dias:Q', title='Días Totales'),\n",
    "    y=alt.Y('ips:N', sort='-x', title='IPS'),\n",
    "    tooltip=['ips', 'incapacidad_dias']\n",
    ").properties(title='Top 10 IPS por Días Totales de Incapacidad')\n",
    "\n",
    "fig7"
   ]
  }
 ],
 "metadata": {
  "kernelspec": {
   "display_name": "env",
   "language": "python",
   "name": "python3"
  },
  "language_info": {
   "codemirror_mode": {
    "name": "ipython",
    "version": 3
   },
   "file_extension": ".py",
   "mimetype": "text/x-python",
   "name": "python",
   "nbconvert_exporter": "python",
   "pygments_lexer": "ipython3",
   "version": "3.12.7"
  }
 },
 "nbformat": 4,
 "nbformat_minor": 5
}
